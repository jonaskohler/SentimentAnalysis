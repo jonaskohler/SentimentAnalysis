{
 "cells": [
  {
   "cell_type": "markdown",
   "metadata": {},
   "source": [
    "### i) Import packages"
   ]
  },
  {
   "cell_type": "code",
   "execution_count": 1,
   "metadata": {
    "collapsed": false
   },
   "outputs": [],
   "source": [
    "import pandas as pd \n",
    "import numpy as np\n",
    "import scipy as sp\n",
    "import string, re\n",
    "import nltk\n",
    "from sklearn.cross_validation import train_test_split\n",
    "from sklearn.feature_extraction.text import TfidfVectorizer,HashingVectorizer, CountVectorizer\n",
    "from sklearn import naive_bayes,metrics, linear_model,svm, grid_search\n",
    "import time,random\n",
    "import operator\n",
    "from tabulate import tabulate\n",
    "from sklearn.ensemble import RandomForestClassifier\n",
    "from sklearn.metrics import confusion_matrix\n",
    "from sklearn.linear_model import RidgeClassifier\n",
    "from sklearn.linear_model import Perceptron\n",
    "from sklearn.linear_model import PassiveAggressiveClassifier\n",
    "from sklearn.naive_bayes import BernoulliNB, MultinomialNB\n",
    "from sklearn.neighbors import KNeighborsClassifier\n",
    "from sklearn.svm import SVC\n",
    "from sklearn.multiclass import OneVsRestClassifier\n",
    "import sklearn.utils\n",
    "\n",
    "import matplotlib.pyplot as plt\n",
    "%matplotlib inline\n",
    "\n",
    "from matplotlib import style\n",
    "plt.style.use('ggplot')"
   ]
  },
  {
   "cell_type": "code",
   "execution_count": 2,
   "metadata": {
    "collapsed": false
   },
   "outputs": [],
   "source": [
    "# Import nltk stopwords and lemmatizer\n",
    "stop_list = nltk.corpus.stopwords.words('english')\n",
    "lemmatizer = nltk.stem.WordNetLemmatizer()\n",
    "punctuation = list(string.punctuation)\n",
    "stop_list = stop_list + punctuation +[\"rt\", 'url']"
   ]
  },
  {
   "cell_type": "markdown",
   "metadata": {},
   "source": [
    "### ii) Preprocess data"
   ]
  },
  {
   "cell_type": "code",
   "execution_count": 3,
   "metadata": {
    "collapsed": false
   },
   "outputs": [],
   "source": [
    "# Read kaggle data set from .csv-file\n",
    "data_wneutral = pd.read_csv(\"Sentiment.csv\")\n",
    "data = data_wneutral[data_wneutral['sentiment'] !='Neutral']\n",
    "classifier = []"
   ]
  },
  {
   "cell_type": "code",
   "execution_count": 4,
   "metadata": {
    "collapsed": false
   },
   "outputs": [
    {
     "name": "stderr",
     "output_type": "stream",
     "text": [
      "C:\\Users\\Philipp\\Anaconda3\\lib\\site-packages\\ipykernel\\__main__.py:116: SettingWithCopyWarning: \n",
      "A value is trying to be set on a copy of a slice from a DataFrame.\n",
      "Try using .loc[row_indexer,col_indexer] = value instead\n",
      "\n",
      "See the caveats in the documentation: http://pandas.pydata.org/pandas-docs/stable/indexing.html#indexing-view-versus-copy\n"
     ]
    }
   ],
   "source": [
    "# Preprocess of tweet-text-column: delete hashes, take out links, delete punctuation\n",
    "\n",
    "def preprocess(tweet):\n",
    "    if type(tweet)!=type(2.0):\n",
    "        tweet = tweet.lower()\n",
    "                \n",
    "        #no difference between data set \n",
    "        tweet = tweet.replace(\"#bernieorbust\", \"positive\")\n",
    "        tweet = tweet.replace(\"#imwithher\", \"positive\")\n",
    "        tweet = tweet.replace(\"#votetrump2016\", \"positive\")\n",
    "        tweet = tweet.replace(\"#onlytrump\", \"positive\")\n",
    "        tweet = tweet.replace(\"#notmeus\", \"positive\")\n",
    "        tweet = tweet.replace(\"#stillsanders\", \"positive\")\n",
    "        tweet = tweet.replace(\"#hillarybros\", \"positive\")\n",
    "        tweet = tweet.replace(\"#latinos4bernie\", \"positive\")\n",
    "        tweet = tweet.replace(\"#americafirst\", \"positive\")\n",
    "        tweet = tweet.replace(\"#singsing4hillary\", \"positive\")\n",
    "        tweet = tweet.replace(\"#hillary2016pres\", \"positive\")\n",
    "        tweet = tweet.replace(\"#bernietheman\", \"positive\") \n",
    "        tweet = tweet.replace(\"#america1st\", \"positive\")\n",
    "        tweet = tweet.replace(\"#teamtrump\", \"positive\")\n",
    "        tweet = tweet.replace(\"#antiwar\", \"positive\")\n",
    "        tweet = tweet.replace(\"#wearebernie\", \"positive\")\n",
    "        tweet = tweet.replace(\"#sheswithus\", \"positive\") \n",
    "        tweet = tweet.replace(\"#empowering\", \"positive\") \n",
    "        \n",
    "        tweet = tweet.replace(\"#bernielaheadquarters\", \"positive\")\n",
    "        tweet = tweet.replace(\"#votebernie\", \"positive\")    \n",
    "        tweet = tweet.replace(\"#calibernication\", \"positive\")\n",
    "        tweet = tweet.replace(\"#teamamerica\", \"positive\")\n",
    "        \n",
    "        tweet = tweet.replace(\"#vote4hillary\", \"positive\")\n",
    "        tweet = tweet.replace(\"#berniestrong\", \"positive\")\n",
    "            \n",
    "        tweet = tweet.replace(\"#vivabernie\", \"positive\")\n",
    "        \n",
    "        tweet = tweet.replace(\"#bernieforpresident\", \"positive\")\n",
    "        tweet = tweet.replace(\"#imwithhillary\", \"positive\")    \n",
    "        tweet = tweet.replace(\"#berniebus\", \"positive\")      \n",
    "        tweet = tweet.replace(\"#latinosforhillary\", \"positive\")                               \n",
    "        tweet = tweet.replace(\"#trumptractor\", \"positive\")    \n",
    "                                      \n",
    "        tweet = tweet.replace(\"#bernieforpresident\", \"positive\")\n",
    "                            \n",
    "        tweet = \" hashtag\".join(tweet.split('#'))\n",
    "        tweet = re.sub('((www\\.[^\\s]+)|(https://[^\\s]+))','URL',tweet)\n",
    "        tweet = re.sub(\"http\\S+\", \"URL\", tweet)\n",
    "        tweet = re.sub(\"https\\S+\", \"URL\", tweet)\n",
    "        tweet = re.sub('@[^\\s]+','AT_USER',tweet)\n",
    "        tweet = re.sub(r'[0-9]*','',tweet)\n",
    "        tweet = re.sub(r'@[a-zA-Z0-9]*', '', tweet)\n",
    "        tweet = tweet.replace(\"AT_USER\",\"\")\n",
    "        tweet = tweet.replace(\"URL\",\"\")\n",
    "        tweet = tweet.replace(\".\",\"\")\n",
    "        tweet = tweet.replace('\\\"',\"\")\n",
    "        tweet = tweet.replace('&amp',\"\")\n",
    "      \n",
    "        \n",
    "        # Replace smileys with polarity\n",
    "        tweet = tweet.replace(\":-D\", \"positive\")\n",
    "        tweet = tweet.replace(\":D\", \"positive\")\n",
    "        tweet = tweet.replace(\":-)\", \"positive\")\n",
    "        tweet = tweet.replace(\":)\", \"positive\")\n",
    "        tweet = tweet.replace(\"=D\", \"positive\")\n",
    "        tweet = tweet.replace(\"xD\", \"positive\")\n",
    "        tweet = tweet.replace(\"(^^)\", \"positive\")\n",
    "        tweet = tweet.replace(\"<3\", \"positive\")\n",
    "        tweet = tweet.replace(\"(L)\", \"positive\")\n",
    "        tweet = tweet.replace(\":-(\", \"negative\")\n",
    "        tweet = tweet.replace(\":(\", \"negative\")\n",
    "        tweet = tweet.replace(\":'(\", \"negative\")\n",
    "        tweet = tweet.replace(\":'-(\", \"negative\")\n",
    "        tweet = tweet.replace(\":$\", \"negative\")\n",
    "        tweet = tweet.replace(\":-$\", \"negative\")\n",
    "        tweet = tweet.replace(\":-/\", \"negative\")\n",
    "        tweet  = \" \".join([word for word in tweet.split(\" \") if word not in stop_list])\n",
    "        tweet  = \" \".join([word for word in tweet.split(\" \") if re.search('^[a-z]+$', word)])\n",
    "        tweet = \" \".join([lemmatizer.lemmatize(word) for word in tweet.split(\" \")])\n",
    "        tweet = re.sub('[\\s]+', ' ', tweet)\n",
    "        tweet = tweet.strip('\\'\"')\n",
    "\n",
    "        \n",
    "        \n",
    "    else:\n",
    "        tweet=''\n",
    "    return tweet\n",
    "\n",
    "data['processed_text'] = data.text.apply(preprocess)\n",
    "categories = data.sentiment.unique()\n",
    "categories  = categories.tolist()"
   ]
  },
  {
   "cell_type": "code",
   "execution_count": 5,
   "metadata": {
    "collapsed": false
   },
   "outputs": [],
   "source": [
    "# cut data to 50/50 positive/negative  \n",
    "data_pos = data[data['sentiment'] == 'Positive']\n",
    "data_neg = data[data['sentiment'] == 'Negative']"
   ]
  },
  {
   "cell_type": "code",
   "execution_count": 6,
   "metadata": {
    "collapsed": false
   },
   "outputs": [],
   "source": [
    "#set seed \n",
    "np.random.seed(18)"
   ]
  },
  {
   "cell_type": "code",
   "execution_count": 7,
   "metadata": {
    "collapsed": false
   },
   "outputs": [],
   "source": [
    "#bootstrap data\n",
    "data_for_refit = pd.concat([\n",
    "            data_pos.loc[np.random.choice(data_pos.index, size = 5000, replace = True),:],\n",
    "            data_neg.loc[np.random.choice(data_neg.index, size = 5000, replace = True),:],\n",
    "        ])"
   ]
  },
  {
   "cell_type": "code",
   "execution_count": 8,
   "metadata": {
    "collapsed": false
   },
   "outputs": [],
   "source": [
    "#setting aside 1000 words \n",
    "choice_pos = np.random.choice(data_pos.index, size = 500, replace = False)\n",
    "choice_neg = np.random.choice(data_neg.index, size = 500, replace = False)\n",
    "\n",
    "data_test = pd.concat([data_pos.loc[choice_pos,:], data_neg.loc[choice_neg,:]])\n",
    "data_train = pd.concat([data_pos.drop(choice_pos), data_neg.drop(choice_neg)])"
   ]
  },
  {
   "cell_type": "code",
   "execution_count": 9,
   "metadata": {
    "collapsed": false
   },
   "outputs": [],
   "source": [
    "# cut data to 50/50 positive/negative  \n",
    "data_train_pos = data_train[data_train['sentiment'] == 'Positive']\n",
    "data_train_neg = data_train[data_train['sentiment'] == 'Negative']"
   ]
  },
  {
   "cell_type": "code",
   "execution_count": 10,
   "metadata": {
    "collapsed": false
   },
   "outputs": [
    {
     "data": {
      "text/plain": [
       "(1736, 22)"
      ]
     },
     "execution_count": 10,
     "metadata": {},
     "output_type": "execute_result"
    }
   ],
   "source": [
    "data_train_pos.shape"
   ]
  },
  {
   "cell_type": "code",
   "execution_count": 11,
   "metadata": {
    "collapsed": false
   },
   "outputs": [],
   "source": [
    "choice = np.random.choice(data_train_neg.index, size = 5000, replace = True)\n",
    "data_neg_boot = data_train_neg.loc[choice,:]"
   ]
  },
  {
   "cell_type": "code",
   "execution_count": 12,
   "metadata": {
    "collapsed": false
   },
   "outputs": [],
   "source": [
    "choice = np.random.choice(data_train_pos.index, size = 5000, replace = True)"
   ]
  },
  {
   "cell_type": "code",
   "execution_count": 13,
   "metadata": {
    "collapsed": false
   },
   "outputs": [],
   "source": [
    "data_pos_boot = data_train_pos.loc[choice,:]"
   ]
  },
  {
   "cell_type": "code",
   "execution_count": 14,
   "metadata": {
    "collapsed": false
   },
   "outputs": [
    {
     "data": {
      "text/plain": [
       "[]"
      ]
     },
     "execution_count": 14,
     "metadata": {},
     "output_type": "execute_result"
    }
   ],
   "source": [
    "classifier "
   ]
  },
  {
   "cell_type": "code",
   "execution_count": 15,
   "metadata": {
    "collapsed": false
   },
   "outputs": [],
   "source": [
    "# bootstrap to 10.000\n",
    "data_train = pd.concat([data_pos_boot, data_neg_boot])"
   ]
  },
  {
   "cell_type": "code",
   "execution_count": 16,
   "metadata": {
    "collapsed": false
   },
   "outputs": [],
   "source": [
    "#join bootstrapped data and 1000 set aside for testing\n",
    "data = pd.concat([data_train, data_test])"
   ]
  },
  {
   "cell_type": "code",
   "execution_count": 17,
   "metadata": {
    "collapsed": false
   },
   "outputs": [],
   "source": [
    "from sklearn.cross_validation import PredefinedSplit\n",
    "\n",
    "ps = PredefinedSplit(test_fold=np.concatenate((np.zeros(data_train.shape[0])-1, np.zeros(data_test.shape[0]))))"
   ]
  },
  {
   "cell_type": "code",
   "execution_count": 18,
   "metadata": {
    "collapsed": false
   },
   "outputs": [
    {
     "data": {
      "text/plain": [
       "Positive    5500\n",
       "Negative    5500\n",
       "Name: sentiment, dtype: int64"
      ]
     },
     "execution_count": 18,
     "metadata": {},
     "output_type": "execute_result"
    }
   ],
   "source": [
    "data['sentiment'].value_counts()"
   ]
  },
  {
   "cell_type": "code",
   "execution_count": 19,
   "metadata": {
    "collapsed": false
   },
   "outputs": [],
   "source": [
    "#naming vectors for fitting\n",
    "x = data.processed_text.values\n",
    "y = data.sentiment.values\n",
    "\n",
    "x_refit = data_for_refit.processed_text.values\n",
    "y_refit = data_for_refit.sentiment.values"
   ]
  },
  {
   "cell_type": "code",
   "execution_count": 20,
   "metadata": {
    "collapsed": false
   },
   "outputs": [
    {
     "data": {
      "text/plain": [
       "(11000, 22)"
      ]
     },
     "execution_count": 20,
     "metadata": {},
     "output_type": "execute_result"
    }
   ],
   "source": [
    "data.shape\n",
    "#data"
   ]
  },
  {
   "cell_type": "markdown",
   "metadata": {},
   "source": [
    "### iii) Prepare training and test set, display of output"
   ]
  },
  {
   "cell_type": "code",
   "execution_count": 24,
   "metadata": {
    "collapsed": false
   },
   "outputs": [],
   "source": [
    "# Split data set into training and test set\n",
    "x_train, x_test, y_train, y_test = train_test_split( x, y, test_size=0.2)\n",
    "\n",
    "# Output to show performance\n",
    "def benchmark(clf,xtrain,ytrain,xtest,ytest,categories,vec_name):\n",
    "    print('* ' * 40)\n",
    "    print(\"Training on \"+ vec_name +\" : \")\n",
    "    print(clf)\n",
    "    clf.fit(xtrain, ytrain)\n",
    "    pred = clf.predict(xtest)\n",
    "    score = metrics.accuracy_score(ytest, pred)\n",
    "    print(\"Accuracy:   %0.3f\" % score)\n",
    "    print(\"Confusion Matrix:\\n\",confusion_matrix(pred, y_test),\"\\n\")\n",
    "    print(\"Classification Report:\\n\",metrics.classification_report(y_test, pred, target_names=categories))"
   ]
  },
  {
   "cell_type": "markdown",
   "metadata": {},
   "source": [
    "### iv) Create feature vectors"
   ]
  },
  {
   "cell_type": "code",
   "execution_count": 25,
   "metadata": {
    "collapsed": false
   },
   "outputs": [],
   "source": [
    "# Define Vectorizers,imported from sklearn\n",
    "vec_name = ['Count Vectorizer','Bigram Count Vectorizer','Hashing Vectorizer','Tfidf Vectorizer']\n",
    "vectorizer=[]\n",
    "# Count Vectorizer: simply counts word occurrence\n",
    "vectorizer.append(CountVectorizer(min_df = 0.01,max_df = 0.5, stop_words = 'english', analyzer='word'))\n",
    "# Bigram Count Vectorizer: ngrams with 1 and 2 elements are extracted, not only single words\n",
    "vectorizer.append(CountVectorizer(ngram_range=(1, 2),token_pattern=r'\\b\\w+\\b', min_df=1))\n",
    "# Hashing Vectorizer: same count as simple count vectorizer, but less memory consumption\n",
    "vectorizer.append(HashingVectorizer(stop_words='english', non_negative=True))\n",
    "# TFIDF Vectorizer: computes tfidf for terms with document frequency between 0.01 and 0.5\n",
    "vectorizer.append(TfidfVectorizer(min_df = 0.01, max_df = 0.5, sublinear_tf = True,stop_words = 'english'))\n",
    "\n",
    "from nltk.stem.snowball import EnglishStemmer\n",
    "\n",
    "stemmer = EnglishStemmer()\n",
    "analyzer = CountVectorizer().build_analyzer()\n",
    "\n",
    "def stemmed_words(doc):\n",
    "    return (stemmer.stem(w) for w in analyzer(doc))\n",
    "\n",
    "stem_vectorizer = CountVectorizer(analyzer=stemmed_words, stop_words='english')\n",
    "len(stem_vectorizer.fit(x, y).get_feature_names())\n",
    "\n",
    "\n",
    "#from nltk.stem.snowball import EnglishStemmer\n",
    "#\n",
    "#stemmer = EnglishStemmer()\n",
    "#analyzer = CountVectorizer().build_analyzer()\n",
    "#\n",
    "#def stemmed_words(doc):\n",
    "#    return (stemmer.stem(w) for w in analyzer(doc))\n",
    "#\n",
    "#stem_vectorizer = CountVectorizer(analyzer=stemmed_words, stop_words='english')\n",
    "\n",
    "###############\n",
    "# first reading of crawled data - ALL data - also not-labeled\n",
    "data_evaluation = pd.read_csv(\"Data2.csv\", sep=\";\")\n",
    "data_evaluation['processed_text'] = data_evaluation.text.apply(preprocess)\n",
    "data_evaluation_nn = data_evaluation[data_evaluation.processed_text.notnull()]\n",
    "z = data_evaluation_nn.processed_text.values\n",
    "\n",
    "vocab = set(stem_vectorizer.fit(x).get_feature_names()).intersection(set(stem_vectorizer.fit(z).get_feature_names()))\n",
    "\n",
    "vectorizer.append(CountVectorizer(analyzer=stemmed_words, stop_words='english', vocabulary=vocab))\n",
    "vec_name.append('Count Vectorizer on combined vocabulary')\n",
    "\n",
    "\n",
    "vec_index = 2\n",
    "x_train_vec = vectorizer[vec_index].fit_transform(x_train)\n",
    "x_train_vec\n",
    "x_test_vec = vectorizer[vec_index].transform(x_test)"
   ]
  },
  {
   "cell_type": "code",
   "execution_count": 26,
   "metadata": {
    "collapsed": false
   },
   "outputs": [
    {
     "data": {
      "text/plain": [
       "'Hashing Vectorizer'"
      ]
     },
     "execution_count": 26,
     "metadata": {},
     "output_type": "execute_result"
    }
   ],
   "source": [
    "vec_name[vec_index]"
   ]
  },
  {
   "cell_type": "markdown",
   "metadata": {},
   "source": [
    "### v) Train classifiers\n",
    "#### a) Multinomial Naive Bayes"
   ]
  },
  {
   "cell_type": "code",
   "execution_count": 28,
   "metadata": {
    "collapsed": false
   },
   "outputs": [],
   "source": [
    "gs_mnb = OneVsRestClassifier(naive_bayes.MultinomialNB())\n",
    "\n",
    "parameters = [\n",
    "        \n",
    "    {\n",
    "        \"estimator__alpha\": [0.0001,0.001,0.01,0.1,1,10,100,1000,10000],\n",
    "    } \n",
    "]\n",
    "#cv = 3\n",
    "gs_mnb = grid_search.GridSearchCV(gs_mnb,param_grid=parameters, scoring = 'accuracy', cv = ps, verbose = 10, refit = False)"
   ]
  },
  {
   "cell_type": "code",
   "execution_count": 29,
   "metadata": {
    "collapsed": false,
    "scrolled": true
   },
   "outputs": [
    {
     "name": "stdout",
     "output_type": "stream",
     "text": [
      "Fitting 1 folds for each of 9 candidates, totalling 9 fits\n",
      "[CV] estimator__alpha=0.0001 .........................................\n",
      "[CV] ................ estimator__alpha=0.0001, score=0.716000 -   0.0s\n",
      "[CV] estimator__alpha=0.001 ..........................................\n"
     ]
    },
    {
     "name": "stderr",
     "output_type": "stream",
     "text": [
      "[Parallel(n_jobs=1)]: Done   1 tasks       | elapsed:    0.0s\n"
     ]
    },
    {
     "name": "stdout",
     "output_type": "stream",
     "text": [
      "[CV] ................. estimator__alpha=0.001, score=0.718000 -   0.0s\n",
      "[CV] estimator__alpha=0.01 ...........................................\n",
      "[CV] .................. estimator__alpha=0.01, score=0.721000 -   0.0s\n",
      "[CV] estimator__alpha=0.1 ............................................\n",
      "[CV] ................... estimator__alpha=0.1, score=0.729000 -   0.0s\n",
      "[CV] estimator__alpha=1 ..............................................\n",
      "[CV] ..................... estimator__alpha=1, score=0.743000 -   0.0s\n",
      "[CV] estimator__alpha=10 .............................................\n"
     ]
    },
    {
     "name": "stderr",
     "output_type": "stream",
     "text": [
      "[Parallel(n_jobs=1)]: Done   4 tasks       | elapsed:    0.4s\n"
     ]
    },
    {
     "name": "stdout",
     "output_type": "stream",
     "text": [
      "[CV] .................... estimator__alpha=10, score=0.739000 -   0.0s\n",
      "[CV] estimator__alpha=100 ............................................\n",
      "[CV] ................... estimator__alpha=100, score=0.706000 -   0.0s\n",
      "[CV] estimator__alpha=1000 ...........................................\n"
     ]
    },
    {
     "name": "stderr",
     "output_type": "stream",
     "text": [
      "[Parallel(n_jobs=1)]: Done   7 tasks       | elapsed:    0.7s\n"
     ]
    },
    {
     "name": "stdout",
     "output_type": "stream",
     "text": [
      "[CV] .................. estimator__alpha=1000, score=0.663000 -   0.0s\n",
      "[CV] estimator__alpha=10000 ..........................................\n",
      "[CV] ................. estimator__alpha=10000, score=0.638000 -   0.0s\n",
      "Wall time: 1.25 s\n"
     ]
    },
    {
     "name": "stderr",
     "output_type": "stream",
     "text": [
      "[Parallel(n_jobs=1)]: Done   9 out of   9 | elapsed:    1.0s finished\n"
     ]
    }
   ],
   "source": [
    "%%time\n",
    "# Fit GridSearch\n",
    "gs_mnb = gs_mnb.fit(vectorizer[vec_index].fit_transform(x), y)\n",
    "\n",
    "#classifier_final = gs_log.best_estimator_"
   ]
  },
  {
   "cell_type": "code",
   "execution_count": 30,
   "metadata": {
    "collapsed": false
   },
   "outputs": [
    {
     "name": "stdout",
     "output_type": "stream",
     "text": [
      "{'estimator__alpha': 1}\n",
      "0.743\n"
     ]
    }
   ],
   "source": [
    "print(gs_mnb.best_params_)\n",
    "print(gs_mnb.best_score_)\n",
    "\n",
    "\n",
    "mnb_best = naive_bayes.MultinomialNB(alpha = 0.1)"
   ]
  },
  {
   "cell_type": "markdown",
   "metadata": {},
   "source": [
    "#### b) Logistic Regression"
   ]
  },
  {
   "cell_type": "code",
   "execution_count": 32,
   "metadata": {
    "collapsed": false,
    "scrolled": true
   },
   "outputs": [],
   "source": [
    "logit = OneVsRestClassifier(linear_model.LogisticRegression())\n",
    "\n",
    "parameters = [\n",
    "        \n",
    "    {\n",
    "        \"estimator__C\": [0.0001,0.001,0.01,0.1,1,10,100,1000,10000],\n",
    "    } \n",
    "]\n",
    "#cv = 3\n",
    "gs_log = grid_search.GridSearchCV(logit,param_grid=parameters, scoring = 'accuracy', cv = ps, verbose = 10, refit = False)"
   ]
  },
  {
   "cell_type": "code",
   "execution_count": 34,
   "metadata": {
    "collapsed": false
   },
   "outputs": [
    {
     "name": "stdout",
     "output_type": "stream",
     "text": [
      "Fitting 1 folds for each of 9 candidates, totalling 9 fits\n",
      "[CV] estimator__C=0.0001 .............................................\n",
      "[CV] .................... estimator__C=0.0001, score=0.643000 -   0.1s\n",
      "[CV] estimator__C=0.001 ..............................................\n"
     ]
    },
    {
     "name": "stderr",
     "output_type": "stream",
     "text": [
      "[Parallel(n_jobs=1)]: Done   1 tasks       | elapsed:    0.1s\n"
     ]
    },
    {
     "name": "stdout",
     "output_type": "stream",
     "text": [
      "[CV] ..................... estimator__C=0.001, score=0.685000 -   0.1s\n",
      "[CV] estimator__C=0.01 ...............................................\n",
      "[CV] ...................... estimator__C=0.01, score=0.720000 -   0.2s\n",
      "[CV] estimator__C=0.1 ................................................\n",
      "[CV] ....................... estimator__C=0.1, score=0.748000 -   0.3s\n",
      "[CV] estimator__C=1 ..................................................\n"
     ]
    },
    {
     "name": "stderr",
     "output_type": "stream",
     "text": [
      "[Parallel(n_jobs=1)]: Done   4 tasks       | elapsed:    1.1s\n"
     ]
    },
    {
     "name": "stdout",
     "output_type": "stream",
     "text": [
      "[CV] ......................... estimator__C=1, score=0.763000 -   0.7s\n",
      "[CV] estimator__C=10 .................................................\n",
      "[CV] ........................ estimator__C=10, score=0.753000 -   1.4s\n",
      "[CV] estimator__C=100 ................................................\n",
      "[CV] ....................... estimator__C=100, score=0.746000 -   3.3s\n",
      "[CV] estimator__C=1000 ...............................................\n"
     ]
    },
    {
     "name": "stderr",
     "output_type": "stream",
     "text": [
      "[Parallel(n_jobs=1)]: Done   7 tasks       | elapsed:    6.7s\n"
     ]
    },
    {
     "name": "stdout",
     "output_type": "stream",
     "text": [
      "[CV] ...................... estimator__C=1000, score=0.739000 -   6.8s\n",
      "[CV] estimator__C=10000 ..............................................\n",
      "[CV] ..................... estimator__C=10000, score=0.730000 -  13.7s\n",
      "Wall time: 27.6 s\n"
     ]
    },
    {
     "name": "stderr",
     "output_type": "stream",
     "text": [
      "[Parallel(n_jobs=1)]: Done   9 out of   9 | elapsed:   27.3s finished\n"
     ]
    }
   ],
   "source": [
    "%%time\n",
    "# Fit GridSearch\n",
    "gs_log = gs_log.fit(vectorizer[vec_index].fit_transform(x), y)"
   ]
  },
  {
   "cell_type": "code",
   "execution_count": 35,
   "metadata": {
    "collapsed": false
   },
   "outputs": [
    {
     "name": "stdout",
     "output_type": "stream",
     "text": [
      "0.763\n"
     ]
    }
   ],
   "source": [
    "print(gs_log.best_score_)"
   ]
  },
  {
   "cell_type": "code",
   "execution_count": 36,
   "metadata": {
    "collapsed": false
   },
   "outputs": [
    {
     "name": "stdout",
     "output_type": "stream",
     "text": [
      "{'estimator__C': 1}\n"
     ]
    }
   ],
   "source": [
    "print(gs_log.best_params_)"
   ]
  },
  {
   "cell_type": "code",
   "execution_count": 37,
   "metadata": {
    "collapsed": false
   },
   "outputs": [],
   "source": [
    "logit_best = gs_log.estimator.set_params(**gs_log.best_params_).fit(vectorizer[vec_index].fit_transform(x_refit), y_refit)"
   ]
  },
  {
   "cell_type": "code",
   "execution_count": 27,
   "metadata": {
    "collapsed": false
   },
   "outputs": [],
   "source": [
    "#GridSearch\n",
    "svmrest = OneVsRestClassifier(SVC())\n",
    "\n",
    "parameters = [\n",
    "    {\n",
    "        \"estimator__C\": [1,10,100],\n",
    "        \"estimator__kernel\": ['poly'],\n",
    "        \"estimator__degree\":[2, 3],\n",
    "        \"estimator__probability\": [True],\n",
    "        \"estimator__verbose\": [False],\n",
    "    },\n",
    "    {\n",
    "        \"estimator__C\": [1,10,100],\n",
    "        \"estimator__kernel\": ['linear', 'rbf'],\n",
    "        \"estimator__degree\":[3],\n",
    "        \"estimator__probability\": [True],\n",
    "        \"estimator__verbose\": [False],\n",
    "    },\n",
    "]\n",
    "\n",
    "gs = grid_search.GridSearchCV(svmrest, parameters, scoring = 'accuracy', cv = ps, verbose = 10)"
   ]
  },
  {
   "cell_type": "code",
   "execution_count": 28,
   "metadata": {
    "collapsed": false
   },
   "outputs": [
    {
     "name": "stdout",
     "output_type": "stream",
     "text": [
      "Fitting 1 folds for each of 12 candidates, totalling 12 fits\n",
      "[CV] estimator__probability=True, estimator__kernel=poly, estimator__degree=2, estimator__C=1, estimator__verbose=False \n",
      "[CV]  estimator__probability=True, estimator__kernel=poly, estimator__degree=2, estimator__C=1, estimator__verbose=False, score=0.625000 -  45.2s\n",
      "[CV] estimator__probability=True, estimator__kernel=poly, estimator__degree=3, estimator__C=1, estimator__verbose=False \n"
     ]
    },
    {
     "name": "stderr",
     "output_type": "stream",
     "text": [
      "[Parallel(n_jobs=1)]: Done   1 tasks       | elapsed:   45.2s\n"
     ]
    },
    {
     "name": "stdout",
     "output_type": "stream",
     "text": [
      "[CV]  estimator__probability=True, estimator__kernel=poly, estimator__degree=3, estimator__C=1, estimator__verbose=False, score=0.666000 -  38.4s\n",
      "[CV] estimator__probability=True, estimator__kernel=poly, estimator__degree=2, estimator__C=10, estimator__verbose=False \n",
      "[CV]  estimator__probability=True, estimator__kernel=poly, estimator__degree=2, estimator__C=10, estimator__verbose=False, score=0.625000 -  43.8s\n",
      "[CV] estimator__probability=True, estimator__kernel=poly, estimator__degree=3, estimator__C=10, estimator__verbose=False \n",
      "[CV]  estimator__probability=True, estimator__kernel=poly, estimator__degree=3, estimator__C=10, estimator__verbose=False, score=0.598000 -  35.4s\n",
      "[CV] estimator__probability=True, estimator__kernel=poly, estimator__degree=2, estimator__C=100, estimator__verbose=False \n"
     ]
    },
    {
     "name": "stderr",
     "output_type": "stream",
     "text": [
      "[Parallel(n_jobs=1)]: Done   4 tasks       | elapsed:  2.7min\n"
     ]
    },
    {
     "name": "stdout",
     "output_type": "stream",
     "text": [
      "[CV]  estimator__probability=True, estimator__kernel=poly, estimator__degree=2, estimator__C=100, estimator__verbose=False, score=0.625000 -  39.6s\n",
      "[CV] estimator__probability=True, estimator__kernel=poly, estimator__degree=3, estimator__C=100, estimator__verbose=False \n",
      "[CV]  estimator__probability=True, estimator__kernel=poly, estimator__degree=3, estimator__C=100, estimator__verbose=False, score=0.602000 -  38.1s\n",
      "[CV] estimator__probability=True, estimator__kernel=linear, estimator__degree=3, estimator__C=1, estimator__verbose=False \n",
      "[CV]  estimator__probability=True, estimator__kernel=linear, estimator__degree=3, estimator__C=1, estimator__verbose=False, score=0.752000 -  24.4s\n",
      "[CV] estimator__probability=True, estimator__kernel=rbf, estimator__degree=3, estimator__C=1, estimator__verbose=False \n"
     ]
    },
    {
     "name": "stderr",
     "output_type": "stream",
     "text": [
      "[Parallel(n_jobs=1)]: Done   7 tasks       | elapsed:  4.4min\n"
     ]
    },
    {
     "name": "stdout",
     "output_type": "stream",
     "text": [
      "[CV]  estimator__probability=True, estimator__kernel=rbf, estimator__degree=3, estimator__C=1, estimator__verbose=False, score=0.707000 -  42.4s\n",
      "[CV] estimator__probability=True, estimator__kernel=linear, estimator__degree=3, estimator__C=10, estimator__verbose=False \n",
      "[CV]  estimator__probability=True, estimator__kernel=linear, estimator__degree=3, estimator__C=10, estimator__verbose=False, score=0.751000 -  24.9s\n",
      "[CV] estimator__probability=True, estimator__kernel=rbf, estimator__degree=3, estimator__C=10, estimator__verbose=False \n",
      "[CV]  estimator__probability=True, estimator__kernel=rbf, estimator__degree=3, estimator__C=10, estimator__verbose=False, score=0.707000 -  43.0s\n",
      "[CV] estimator__probability=True, estimator__kernel=linear, estimator__degree=3, estimator__C=100, estimator__verbose=False \n",
      "[CV]  estimator__probability=True, estimator__kernel=linear, estimator__degree=3, estimator__C=100, estimator__verbose=False, score=0.722000 -  33.3s\n",
      "[CV] estimator__probability=True, estimator__kernel=rbf, estimator__degree=3, estimator__C=100, estimator__verbose=False \n",
      "[CV]  estimator__probability=True, estimator__kernel=rbf, estimator__degree=3, estimator__C=100, estimator__verbose=False, score=0.707000 -  43.2s\n"
     ]
    },
    {
     "name": "stderr",
     "output_type": "stream",
     "text": [
      "[Parallel(n_jobs=1)]: Done  12 tasks       | elapsed:  7.5min\n",
      "[Parallel(n_jobs=1)]: Done  12 out of  12 | elapsed:  7.5min finished\n"
     ]
    },
    {
     "name": "stdout",
     "output_type": "stream",
     "text": [
      "Wall time: 8min 4s\n"
     ]
    }
   ],
   "source": [
    "%%time\n",
    "# Fit GridSearch\n",
    "gs = gs.fit(vectorizer[vec_index].fit_transform(x), y)\n",
    "\n",
    "classifier_final = gs.best_estimator_"
   ]
  },
  {
   "cell_type": "code",
   "execution_count": 29,
   "metadata": {
    "collapsed": false
   },
   "outputs": [
    {
     "data": {
      "text/plain": [
       "OneVsRestClassifier(estimator=SVC(C=1, cache_size=200, class_weight=None, coef0=0.0,\n",
       "  decision_function_shape=None, degree=3, gamma='auto', kernel='linear',\n",
       "  max_iter=-1, probability=True, random_state=None, shrinking=True,\n",
       "  tol=0.001, verbose=False),\n",
       "          n_jobs=1)"
      ]
     },
     "execution_count": 29,
     "metadata": {},
     "output_type": "execute_result"
    }
   ],
   "source": [
    "svm_best = gs.best_estimator_\n",
    "svm_best"
   ]
  },
  {
   "cell_type": "code",
   "execution_count": 30,
   "metadata": {
    "collapsed": false
   },
   "outputs": [
    {
     "name": "stdout",
     "output_type": "stream",
     "text": [
      "0.752\n"
     ]
    }
   ],
   "source": [
    "print(gs.best_score_)"
   ]
  },
  {
   "cell_type": "code",
   "execution_count": 32,
   "metadata": {
    "collapsed": false
   },
   "outputs": [],
   "source": [
    "svm_best = gs.estimator.set_params(**gs.best_params_).fit(vectorizer[vec_index].fit_transform(x_refit), y_refit)"
   ]
  },
  {
   "cell_type": "markdown",
   "metadata": {},
   "source": [
    "### vi) Read crawled tweets and preprocess text"
   ]
  },
  {
   "cell_type": "code",
   "execution_count": 36,
   "metadata": {
    "collapsed": false
   },
   "outputs": [],
   "source": [
    "# Choose final classifier to perform task\n",
    "classifier_final = svm_best\n",
    "#classifier_final = logit_best\n",
    "#classifier_final = mnb_best\n"
   ]
  },
  {
   "cell_type": "code",
   "execution_count": 37,
   "metadata": {
    "collapsed": false
   },
   "outputs": [],
   "source": [
    "# Read crawled ALL tweets \n",
    "data_evaluation = pd.read_csv(\"Data2.csv\", sep=\";\")\n",
    "data_evaluation['processed_text'] = data_evaluation.text.apply(preprocess)"
   ]
  },
  {
   "cell_type": "code",
   "execution_count": 39,
   "metadata": {
    "collapsed": false
   },
   "outputs": [],
   "source": [
    "# Remove NaN from processed text values\n",
    "data_evaluation_nn = data_evaluation[data_evaluation.processed_text.notnull()]"
   ]
  },
  {
   "cell_type": "code",
   "execution_count": 41,
   "metadata": {
    "collapsed": false
   },
   "outputs": [],
   "source": [
    "#looking at SVM words\n",
    "vocab_class = classifier_final.predict(vectorizer[vec_index].fit_transform(vocab))"
   ]
  },
  {
   "cell_type": "code",
   "execution_count": 42,
   "metadata": {
    "collapsed": false
   },
   "outputs": [],
   "source": [
    "vocab_proba = classifier_final.predict_proba(vectorizer[vec_index].fit_transform(vocab))"
   ]
  },
  {
   "cell_type": "code",
   "execution_count": 43,
   "metadata": {
    "collapsed": false
   },
   "outputs": [],
   "source": [
    "bam = pd.concat([pd.Series(list(vocab), name = 'word'), pd.Series(vocab_class, name = 'sentiment'), pd.DataFrame(vocab_proba)], axis = 1)"
   ]
  },
  {
   "cell_type": "code",
   "execution_count": 44,
   "metadata": {
    "collapsed": false
   },
   "outputs": [],
   "source": [
    "bam.to_excel('bam.xlsx')"
   ]
  },
  {
   "cell_type": "markdown",
   "metadata": {},
   "source": [
    "### vii) Perform classification"
   ]
  },
  {
   "cell_type": "code",
   "execution_count": 45,
   "metadata": {
    "collapsed": false
   },
   "outputs": [
    {
     "data": {
      "text/plain": [
       "array([[ 0.08607793,  0.91392207],\n",
       "       [ 0.27000268,  0.72999732],\n",
       "       [ 0.71341076,  0.28658924],\n",
       "       ..., \n",
       "       [ 0.89377738,  0.10622262],\n",
       "       [ 0.86660643,  0.13339357],\n",
       "       [ 0.86660643,  0.13339357]])"
      ]
     },
     "execution_count": 45,
     "metadata": {},
     "output_type": "execute_result"
    }
   ],
   "source": [
    "# Create feature vector from processed text values\n",
    "z = data_evaluation_nn.processed_text.values\n",
    "z_eval_vec = vectorizer[vec_index].transform(z)\n",
    "# Predict sentiment for all tweets\n",
    "pred = classifier_final.predict(z_eval_vec)\n",
    "# Derive confidence score for sentiments\n",
    "pred_proba = classifier_final.predict_proba(z_eval_vec)\n",
    "pred_proba"
   ]
  },
  {
   "cell_type": "code",
   "execution_count": 46,
   "metadata": {
    "collapsed": false
   },
   "outputs": [],
   "source": [
    "# Append classified sentiment to dataframe data_evaluation_nn\n",
    "data_evaluation_nn['sentiment'] = pd.Series(pred, index=data_evaluation_nn.index)\n",
    "# Append confidence level for classified sentiment to dataframe data_evaluation_nn\n",
    "data_evaluation_nn['confidence negative'] = pd.Series(pred_proba[:,0], index=data_evaluation_nn.index)\n",
    "data_evaluation_nn['confidence positive'] = pd.Series(pred_proba[:,1], index=data_evaluation_nn.index)"
   ]
  },
  {
   "cell_type": "code",
   "execution_count": 47,
   "metadata": {
    "collapsed": false
   },
   "outputs": [
    {
     "data": {
      "text/plain": [
       "<matplotlib.axes._subplots.AxesSubplot at 0x25f47951a20>"
      ]
     },
     "execution_count": 47,
     "metadata": {},
     "output_type": "execute_result"
    },
    {
     "data": {
      "image/png": "[encoded data removed]",
      "text/plain": [
       "<matplotlib.figure.Figure at 0x25f479516d8>"
      ]
     },
     "metadata": {},
     "output_type": "display_data"
    }
   ],
   "source": [
    "# Plot overall distribuation of positive vs. negative tweets\n",
    "sent = data_evaluation_nn.sentiment.value_counts()\n",
    "sent.plot(kind='pie', title = 'Positive vs. Negative Tweets', figsize=[6,6])"
   ]
  },
  {
   "cell_type": "markdown",
   "metadata": {},
   "source": [
    "### ix) Export results"
   ]
  },
  {
   "cell_type": "code",
   "execution_count": 48,
   "metadata": {
    "collapsed": true
   },
   "outputs": [],
   "source": [
    "data_evaluation_nn = data_evaluation_nn[data_evaluation_nn.id.notnull()]"
   ]
  },
  {
   "cell_type": "code",
   "execution_count": 49,
   "metadata": {
    "collapsed": false
   },
   "outputs": [],
   "source": [
    "#formating \"id\"\n",
    "#add two zeros after ####, delete #### before and after jpg, add dot before jpg\n",
    "data_evaluation_nn.id = data_evaluation_nn.id.apply(lambda x: (x[0:11] + '00' + x[11:18] + '.jpg'))"
   ]
  },
  {
   "cell_type": "code",
   "execution_count": 50,
   "metadata": {
    "collapsed": false
   },
   "outputs": [],
   "source": [
    "#the following are the data labeled by hand - saved and combined by selma\n",
    "true_labels = pd.read_csv(\"Data_LabelsSelma.csv\", sep=\";\")"
   ]
  },
  {
   "cell_type": "code",
   "execution_count": 52,
   "metadata": {
    "collapsed": false
   },
   "outputs": [],
   "source": [
    "#formating id from hand labeld data\n",
    "true_labels['id'] = true_labels['id'].str[0:11] + '00' + true_labels['id'].str[11:18] + '.jpg'\n",
    "true_labels['true_sentiment'] = true_labels['Labels_Text'] "
   ]
  },
  {
   "cell_type": "code",
   "execution_count": 53,
   "metadata": {
    "collapsed": false
   },
   "outputs": [
    {
     "data": {
      "text/plain": [
       "-1.0    101\n",
       " 1.0     99\n",
       "Name: true_sentiment, dtype: int64"
      ]
     },
     "execution_count": 53,
     "metadata": {},
     "output_type": "execute_result"
    }
   ],
   "source": [
    "true_labels['true_sentiment'].value_counts()"
   ]
  },
  {
   "cell_type": "code",
   "execution_count": 54,
   "metadata": {
    "collapsed": false,
    "scrolled": false
   },
   "outputs": [],
   "source": [
    "true_labels.true_sentiment = true_labels.true_sentiment.astype('category')"
   ]
  },
  {
   "cell_type": "code",
   "execution_count": 57,
   "metadata": {
    "collapsed": false
   },
   "outputs": [
    {
     "data": {
      "text/plain": [
       "-1.0    101\n",
       " 1.0     99\n",
       "Name: true_sentiment, dtype: int64"
      ]
     },
     "execution_count": 57,
     "metadata": {},
     "output_type": "execute_result"
    }
   ],
   "source": [
    "true_labels['true_sentiment'].value_counts()"
   ]
  },
  {
   "cell_type": "code",
   "execution_count": 59,
   "metadata": {
    "collapsed": false,
    "scrolled": true
   },
   "outputs": [
    {
     "name": "stderr",
     "output_type": "stream",
     "text": [
      "C:\\Users\\Philipp\\Anaconda3\\lib\\site-packages\\ipykernel\\__main__.py:2: SettingWithCopyWarning: \n",
      "A value is trying to be set on a copy of a slice from a DataFrame\n",
      "\n",
      "See the caveats in the documentation: http://pandas.pydata.org/pandas-docs/stable/indexing.html#indexing-view-versus-copy\n",
      "  from ipykernel import kernelapp as app\n"
     ]
    }
   ],
   "source": [
    "data_evaluation_nn.sentiment = data_evaluation_nn.sentiment.astype('category').cat.codes\n",
    "data_evaluation_nn.sentiment[data_evaluation_nn.sentiment == 0] = -1"
   ]
  },
  {
   "cell_type": "code",
   "execution_count": 60,
   "metadata": {
    "collapsed": false
   },
   "outputs": [],
   "source": [
    "export = pd.merge(data_evaluation_nn, true_labels, on = 'id', how = 'left')"
   ]
  },
  {
   "cell_type": "code",
   "execution_count": 62,
   "metadata": {
    "collapsed": false
   },
   "outputs": [
    {
     "data": {
      "text/plain": [
       "0.72499999999999998"
      ]
     },
     "execution_count": 62,
     "metadata": {},
     "output_type": "execute_result"
    }
   ],
   "source": [
    "#accuracy \n",
    "from sklearn.metrics import accuracy_score\n",
    "accuracy_score(export.loc[~export['true_sentiment'].isnull(),'true_sentiment'], export.loc[~export['true_sentiment'].isnull(),'sentiment'])"
   ]
  },
  {
   "cell_type": "code",
   "execution_count": 63,
   "metadata": {
    "collapsed": false,
    "scrolled": true
   },
   "outputs": [
    {
     "name": "stdout",
     "output_type": "stream",
     "text": [
      "             precision    recall  f1-score   support\n",
      "\n",
      "         -1       0.75      0.68      0.72       101\n",
      "          1       0.70      0.77      0.73        99\n",
      "\n",
      "avg / total       0.73      0.72      0.72       200\n",
      "\n"
     ]
    }
   ],
   "source": [
    "#confusion matrix\n",
    "from sklearn.metrics import confusion_matrix\n",
    "from sklearn.metrics import classification_report\n",
    "\n",
    "print(classification_report(export.loc[~export['true_sentiment'].isnull(),'true_sentiment'], export.loc[~export['true_sentiment'].isnull(),'sentiment'], labels = [-1, 1]))"
   ]
  },
  {
   "cell_type": "code",
   "execution_count": 64,
   "metadata": {
    "collapsed": false
   },
   "outputs": [
    {
     "name": "stdout",
     "output_type": "stream",
     "text": [
      "[[69 32]\n",
      " [23 76]]\n"
     ]
    }
   ],
   "source": [
    "print(confusion_matrix(export.loc[~export['true_sentiment'].isnull(),'true_sentiment'], export.loc[~export['true_sentiment'].isnull(),'sentiment'], labels = [-1, 1]))"
   ]
  },
  {
   "cell_type": "code",
   "execution_count": 65,
   "metadata": {
    "collapsed": false
   },
   "outputs": [],
   "source": [
    "# Export results to CSV file\n",
    "export2 = export[['id','sentiment','confidence positive','confidence negative','Labels_Text','Labels_Image','Labels_tog','true_sentiment','processed_text','text_x']]\n",
    "export2.to_csv(\"results_after_presentation.csv\", index=False)"
   ]
  }
 ],
 "metadata": {
  "kernelspec": {
   "display_name": "Python 3",
   "language": "python",
   "name": "python3"
  },
  "language_info": {
   "codemirror_mode": {
    "name": "ipython",
    "version": 3
   },
   "file_extension": ".py",
   "mimetype": "text/x-python",
   "name": "python",
   "nbconvert_exporter": "python",
   "pygments_lexer": "ipython3",
   "version": "3.5.1"
  }
 },
 "nbformat": 4,
 "nbformat_minor": 0
}
