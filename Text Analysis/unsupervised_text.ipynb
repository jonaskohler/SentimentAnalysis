{
 "cells": [
  {
   "cell_type": "markdown",
   "metadata": {},
   "source": [
    "### i) Import packages"
   ]
  },
  {
   "cell_type": "code",
   "execution_count": 1,
   "metadata": {
    "collapsed": false
   },
   "outputs": [],
   "source": [
    "import pandas as pd \n",
    "import numpy as np\n",
    "import string, re\n",
    "import nltk\n",
    "from sklearn.cross_validation import train_test_split\n",
    "from sklearn.feature_extraction.text import TfidfVectorizer,HashingVectorizer, CountVectorizer\n",
    "from sklearn import naive_bayes,metrics, linear_model,svm, grid_search\n",
    "import time,random\n",
    "import operator\n",
    "from tabulate import tabulate\n",
    "from sklearn.ensemble import RandomForestClassifier\n",
    "from sklearn.metrics import confusion_matrix\n",
    "from sklearn.linear_model import RidgeClassifier\n",
    "from sklearn.linear_model import Perceptron\n",
    "from sklearn.linear_model import PassiveAggressiveClassifier\n",
    "from sklearn.naive_bayes import BernoulliNB, MultinomialNB\n",
    "from sklearn.neighbors import KNeighborsClassifier\n",
    "from sklearn.svm import SVC\n",
    "from sklearn.multiclass import OneVsRestClassifier\n",
    "\n",
    "import matplotlib.pyplot as plt\n",
    "%matplotlib inline\n",
    "\n",
    "from matplotlib import style\n",
    "plt.style.use('ggplot')"
   ]
  },
  {
   "cell_type": "code",
   "execution_count": 2,
   "metadata": {
    "collapsed": false
   },
   "outputs": [],
   "source": [
    "# Import nltk stopwords and lemmatizer\n",
    "stop_list = nltk.corpus.stopwords.words('english')\n",
    "lemmatizer = nltk.stem.WordNetLemmatizer()\n",
    "punctuation = list(string.punctuation)\n",
    "stop_list = stop_list + punctuation +[\"rt\", 'url']"
   ]
  },
  {
   "cell_type": "markdown",
   "metadata": {},
   "source": [
    "### ii) Preprocess data"
   ]
  },
  {
   "cell_type": "code",
   "execution_count": 3,
   "metadata": {
    "collapsed": false
   },
   "outputs": [
    {
     "name": "stderr",
     "output_type": "stream",
     "text": [
      "C:\\Users\\Philipp\\Anaconda3\\lib\\site-packages\\ipykernel\\__main__.py:55: SettingWithCopyWarning: \n",
      "A value is trying to be set on a copy of a slice from a DataFrame.\n",
      "Try using .loc[row_indexer,col_indexer] = value instead\n",
      "\n",
      "See the caveats in the documentation: http://pandas.pydata.org/pandas-docs/stable/indexing.html#indexing-view-versus-copy\n"
     ]
    }
   ],
   "source": [
    "# Read kaggle data set from .csv-file\n",
    "data_wneutral = pd.read_csv(\"Sentiment.csv\")\n",
    "data = data_wneutral[data_wneutral['sentiment'] !='Neutral']\n",
    "classifier =[]\n",
    "# Preprocess of tweet-text-column: delete hashes, take out links, delete punctuation\n",
    "\n",
    "def preprocess(tweet):\n",
    "    if type(tweet)!=type(2.0):\n",
    "        tweet = tweet.lower()\n",
    "        tweet = tweet.replace(\"#bernieorbust\", \"positive\")\n",
    "        tweet = tweet.replace(\"#imwithher\", \"positive\")\n",
    "        tweet = tweet.replace(\"#votetrump2016\", \"positive\")\n",
    "        tweet = tweet.replace(\"#onlytrump\", \"positive\")\n",
    "        tweet = tweet.replace(\"#notmeus\", \"positive\")\n",
    "        tweet = tweet.replace(\"#stillsanders\", \"positive\")\n",
    "        tweet = tweet.replace(\"#hillarybros\", \"positive\")\n",
    "        tweet = tweet.replace(\"#latinos4bernie\", \"positive\")\n",
    "        tweet = tweet.replace(\"#americafirst\", \"positive\")\n",
    "        tweet = tweet.replace(\"#singsing4hillary\", \"positive\")\n",
    "        tweet = tweet.replace(\"#hillary2016pres\", \"positive\")\n",
    "        tweet = tweet.replace(\"#bernietheman\", \"positive\") \n",
    "        tweet = tweet.replace(\"#america1st\", \"positive\")\n",
    "        tweet = tweet.replace(\"#teamtrump\", \"positive\")\n",
    "        tweet = tweet.replace(\"#antiwar\", \"positive\")\n",
    "        tweet = tweet.replace(\"#wearebernie\", \"positive\")\n",
    "        tweet = tweet.replace(\"#sheswithus\", \"positive\") \n",
    "        tweet = tweet.replace(\"#empowering\", \"positive\") \n",
    "        \n",
    "        tweet = tweet.replace(\"#bernielaheadquarters\", \"positive\")\n",
    "        tweet = tweet.replace(\"#votebernie\", \"positive\")    \n",
    "        tweet = tweet.replace(\"#calibernication\", \"positive\")\n",
    "        tweet = tweet.replace(\"#teamamerica\", \"positive\")\n",
    "        \n",
    "        tweet = tweet.replace(\"#vote4hillary\", \"positive\")\n",
    "        tweet = tweet.replace(\"#berniestrong\", \"positive\")\n",
    "            \n",
    "        tweet = tweet.replace(\"#vivabernie\", \"positive\")\n",
    "        \n",
    "        tweet = tweet.replace(\"#bernieforpresident\", \"positive\")\n",
    "        tweet = tweet.replace(\"#imwithhillary\", \"positive\")    \n",
    "        tweet = tweet.replace(\"#berniebus\", \"positive\")      \n",
    "        tweet = tweet.replace(\"#latinosforhillary\", \"positive\")                               \n",
    "        tweet = tweet.replace(\"#trumptractor\", \"positive\")    \n",
    "                                      \n",
    "        tweet = tweet.replace(\"#bernieforpresident\", \"positive\")\n",
    "        tweet = \" \".join(tweet.split('#'))\n",
    "        \n",
    "        tweet = re.sub('((www\\.[^\\s]+)|(https://[^\\s]+))','URL',tweet)\n",
    "        tweet = re.sub(\"http\\S+\", \"URL\", tweet)\n",
    "        tweet = re.sub(\"https\\S+\", \"URL\", tweet)\n",
    "        tweet = re.sub('@[^\\s]+','AT_USER',tweet)\n",
    "        tweet = re.sub(r'[0-9]*','',tweet)\n",
    "        tweet = re.sub(r'@[a-zA-Z0-9]*', '', tweet)\n",
    "        tweet = tweet.replace(\"AT_USER\",\"\")\n",
    "        tweet = tweet.replace(\"URL\",\"\")\n",
    "        tweet = tweet.replace(\".\",\"\")\n",
    "        tweet = tweet.replace('\\\"',\"\")\n",
    "        tweet = tweet.replace('&amp',\"\")\n",
    "        # Replace smileys with polarity\n",
    "        tweet = tweet.replace(\":-D\", \"positive\")\n",
    "        tweet = tweet.replace(\":D\", \"positive\")\n",
    "        tweet = tweet.replace(\":-)\", \"positive\")\n",
    "        tweet = tweet.replace(\":)\", \"positive\")\n",
    "        tweet = tweet.replace(\"=D\", \"positive\")\n",
    "        tweet = tweet.replace(\"xD\", \"positive\")\n",
    "        tweet = tweet.replace(\"(^^)\", \"positive\")\n",
    "        tweet = tweet.replace(\"<3\", \"positive\")\n",
    "        tweet = tweet.replace(\"(L)\", \"positive\")\n",
    "        tweet = tweet.replace(\":-(\", \"negative\")\n",
    "        tweet = tweet.replace(\":(\", \"negative\")\n",
    "        tweet = tweet.replace(\":'(\", \"negative\")\n",
    "        tweet = tweet.replace(\":'-(\", \"negative\")\n",
    "        tweet = tweet.replace(\":$\", \"negative\")\n",
    "        tweet = tweet.replace(\":-$\", \"negative\")\n",
    "        tweet = tweet.replace(\":-/\", \"negative\")\n",
    "        tweet  = \" \".join([word for word in tweet.split(\" \") if word not in stop_list])\n",
    "        tweet  = \" \".join([word for word in tweet.split(\" \") if re.search('^[a-z]+$', word)])\n",
    "        tweet = \" \".join([lemmatizer.lemmatize(word) for word in tweet.split(\" \")])\n",
    "        tweet = re.sub('[\\s]+', ' ', tweet)\n",
    "        tweet = tweet.strip('\\'\"')\n",
    "    else:\n",
    "        tweet=''\n",
    "    return tweet\n",
    "\n",
    "data['processed_text'] = data.text.apply(preprocess)\n",
    "categories = data.sentiment.unique()\n",
    "categories  = categories.tolist()\n",
    "\n",
    "x = data.processed_text.values\n",
    "y = data.sentiment.values"
   ]
  },
  {
   "cell_type": "code",
   "execution_count": 4,
   "metadata": {
    "collapsed": false
   },
   "outputs": [
    {
     "data": {
      "text/plain": [
       "Negative    8493\n",
       "Positive    2236\n",
       "dtype: int64"
      ]
     },
     "execution_count": 4,
     "metadata": {},
     "output_type": "execute_result"
    }
   ],
   "source": [
    "pd.Series(y).value_counts()"
   ]
  },
  {
   "cell_type": "code",
   "execution_count": 5,
   "metadata": {
    "collapsed": false
   },
   "outputs": [
    {
     "data": {
      "text/plain": [
       "(10729, 22)"
      ]
     },
     "execution_count": 5,
     "metadata": {},
     "output_type": "execute_result"
    }
   ],
   "source": [
    "data.shape\n",
    "#data"
   ]
  },
  {
   "cell_type": "markdown",
   "metadata": {},
   "source": [
    "### iii) Prepare training and test set, display of output"
   ]
  },
  {
   "cell_type": "code",
   "execution_count": 6,
   "metadata": {
    "collapsed": false
   },
   "outputs": [],
   "source": [
    "import sentlex\n",
    "import sentlex.sentanalysis"
   ]
  },
  {
   "cell_type": "code",
   "execution_count": 7,
   "metadata": {
    "collapsed": true
   },
   "outputs": [],
   "source": [
    "SWN = sentlex.SWN3Lexicon()\n",
    "\n",
    "xxx = sentlex.sentanalysis.BasicDocSentiScore()\n",
    "\n",
    "new_x = pd.DataFrame({'tweet': x})\n",
    "\n",
    "pos = []\n",
    "neg = []\n",
    "\n",
    "for i in enumerate(new_x['tweet']):\n",
    "    scores = xxx.classify_document(i[1], tagged = False, L = SWN, a=True, v=True, n=False, negation=False, verbose=False)\n",
    "    pos.append(scores[0])\n",
    "    neg.append(scores[1])\n",
    "new_features = pd.DataFrame({'pos': pos, 'neg': neg})\n",
    "\n",
    "new_x = pd.concat([new_x, new_features], axis = 1)"
   ]
  },
  {
   "cell_type": "code",
   "execution_count": 8,
   "metadata": {
    "collapsed": true
   },
   "outputs": [],
   "source": [
    "# Read crawled tweets\n",
    "data_evaluation = pd.read_csv(\"Data2.csv\", sep=\";\")\n",
    "data_evaluation['processed_text'] = data_evaluation.text.apply(preprocess)"
   ]
  },
  {
   "cell_type": "code",
   "execution_count": 10,
   "metadata": {
    "collapsed": false
   },
   "outputs": [],
   "source": [
    "# Remove NaN from processed text values\n",
    "data_evaluation_nn = data_evaluation[data_evaluation.processed_text.notnull()]"
   ]
  },
  {
   "cell_type": "markdown",
   "metadata": {},
   "source": [
    "### vii) Perform classification"
   ]
  },
  {
   "cell_type": "code",
   "execution_count": 11,
   "metadata": {
    "collapsed": false
   },
   "outputs": [],
   "source": [
    "# Create feature vector from processed text values\n",
    "z = data_evaluation_nn.processed_text.values\n",
    "\n",
    "new_z = pd.DataFrame({'tweet': z})\n",
    "\n",
    "pos = []\n",
    "neg = []\n",
    "\n",
    "for i in enumerate(new_z['tweet']):\n",
    "    scores = xxx.classify_document(i[1], tagged = False, L = SWN, a=True, v=True, n=False, negation=False, verbose=False)\n",
    "    pos.append(scores[0])\n",
    "    neg.append(scores[1])\n",
    "new_features = pd.DataFrame({'pos': pos, 'neg': neg})\n",
    "\n",
    "new_z = pd.concat([new_z, new_features], axis = 1)"
   ]
  },
  {
   "cell_type": "code",
   "execution_count": 12,
   "metadata": {
    "collapsed": true
   },
   "outputs": [],
   "source": [
    "def phil_classifier(feat):\n",
    "    feat['sentiment'] = (feat['pos']>=feat['neg'])\n",
    "    return feat['sentiment']"
   ]
  },
  {
   "cell_type": "code",
   "execution_count": 13,
   "metadata": {
    "collapsed": false
   },
   "outputs": [],
   "source": [
    "ph_result = phil_classifier(new_features)"
   ]
  },
  {
   "cell_type": "code",
   "execution_count": 14,
   "metadata": {
    "collapsed": false
   },
   "outputs": [],
   "source": [
    "pred = ph_result.astype('category').cat.codes"
   ]
  },
  {
   "cell_type": "code",
   "execution_count": 15,
   "metadata": {
    "collapsed": false
   },
   "outputs": [],
   "source": [
    "pred[pred == 0] = -1"
   ]
  },
  {
   "cell_type": "code",
   "execution_count": 16,
   "metadata": {
    "collapsed": false
   },
   "outputs": [],
   "source": [
    "pred_proba = new_features.as_matrix()"
   ]
  },
  {
   "cell_type": "code",
   "execution_count": 17,
   "metadata": {
    "collapsed": false
   },
   "outputs": [],
   "source": [
    "# Append classified sentiment to dataframe data_evaluation_nn\n",
    "data_evaluation_nn['sentiment'] = pd.Series(pred, index=data_evaluation_nn.index)\n",
    "data_evaluation_nn['phil_pos'] = pd.Series(new_z['pos'], index=data_evaluation_nn.index)\n",
    "data_evaluation_nn['phil_neg'] = pd.Series(new_z['neg'], index=data_evaluation_nn.index)\n",
    "\n",
    "# Append confidence level for classified sentiment to dataframe data_evaluation_nn\n",
    "data_evaluation_nn['confidence negative'] = pd.Series(pred_proba[:,0], index=data_evaluation_nn.index)\n",
    "data_evaluation_nn['confidence positive'] = pd.Series(pred_proba[:,1], index=data_evaluation_nn.index)"
   ]
  },
  {
   "cell_type": "code",
   "execution_count": 18,
   "metadata": {
    "collapsed": false
   },
   "outputs": [
    {
     "data": {
      "text/plain": [
       "<matplotlib.axes._subplots.AxesSubplot at 0x21f5eb8e710>"
      ]
     },
     "execution_count": 18,
     "metadata": {},
     "output_type": "execute_result"
    },
    {
     "data": {
      "image/png": "[encoded data removed]",
      "text/plain": [
       "<matplotlib.figure.Figure at 0x21f6a70efd0>"
      ]
     },
     "metadata": {},
     "output_type": "display_data"
    }
   ],
   "source": [
    "# Plot overall distribuation of positive vs. negative tweets\n",
    "sent = data_evaluation_nn.sentiment.value_counts()\n",
    "sent.plot(kind='pie', title = 'Positive vs. Negative Tweets', figsize=[6,6])"
   ]
  },
  {
   "cell_type": "markdown",
   "metadata": {},
   "source": [
    "### ix) Export results"
   ]
  },
  {
   "cell_type": "code",
   "execution_count": 19,
   "metadata": {
    "collapsed": true
   },
   "outputs": [],
   "source": [
    "data_evaluation_nn = data_evaluation_nn[data_evaluation_nn.id.notnull()]"
   ]
  },
  {
   "cell_type": "code",
   "execution_count": 20,
   "metadata": {
    "collapsed": false
   },
   "outputs": [],
   "source": [
    "# formating id\n",
    "#add two zeros after ####, delete #### before and after jpg, add dot before jpg\n",
    "data_evaluation_nn.id = data_evaluation_nn.id.apply(lambda x: (x[0:11] + '00' + x[11:18] + '.jpg'))"
   ]
  },
  {
   "cell_type": "code",
   "execution_count": 21,
   "metadata": {
    "collapsed": false
   },
   "outputs": [],
   "source": [
    "true_labels = pd.read_csv(\"Data_LabelsSelma.csv\", sep=\";\")"
   ]
  },
  {
   "cell_type": "code",
   "execution_count": 22,
   "metadata": {
    "collapsed": true
   },
   "outputs": [],
   "source": [
    "true_labels['id'] = true_labels['id'].str[0:11] + '00' + true_labels['id'].str[11:18] + '.jpg'\n",
    "true_labels['true_sentiment'] = true_labels['Labels_Text'] "
   ]
  },
  {
   "cell_type": "code",
   "execution_count": 23,
   "metadata": {
    "collapsed": false,
    "scrolled": false
   },
   "outputs": [],
   "source": [
    "true_labels.true_sentiment = true_labels.true_sentiment.astype('category')"
   ]
  },
  {
   "cell_type": "code",
   "execution_count": 24,
   "metadata": {
    "collapsed": false
   },
   "outputs": [
    {
     "name": "stderr",
     "output_type": "stream",
     "text": [
      "C:\\Users\\Philipp\\Anaconda3\\lib\\site-packages\\ipykernel\\__main__.py:2: SettingWithCopyWarning: \n",
      "A value is trying to be set on a copy of a slice from a DataFrame\n",
      "\n",
      "See the caveats in the documentation: http://pandas.pydata.org/pandas-docs/stable/indexing.html#indexing-view-versus-copy\n",
      "  from ipykernel import kernelapp as app\n"
     ]
    }
   ],
   "source": [
    "data_evaluation_nn.sentiment = data_evaluation_nn.sentiment.astype('category').cat.codes\n",
    "data_evaluation_nn.sentiment[data_evaluation_nn.sentiment == 0] = -1"
   ]
  },
  {
   "cell_type": "code",
   "execution_count": 25,
   "metadata": {
    "collapsed": false
   },
   "outputs": [],
   "source": [
    "export = pd.merge(data_evaluation_nn, true_labels, on = 'id', how = 'left')"
   ]
  },
  {
   "cell_type": "code",
   "execution_count": 26,
   "metadata": {
    "collapsed": false
   },
   "outputs": [],
   "source": [
    "#accuracy\n",
    "from sklearn.metrics import accuracy_score"
   ]
  },
  {
   "cell_type": "code",
   "execution_count": 27,
   "metadata": {
    "collapsed": false
   },
   "outputs": [
    {
     "data": {
      "text/plain": [
       "0.65500000000000003"
      ]
     },
     "execution_count": 27,
     "metadata": {},
     "output_type": "execute_result"
    }
   ],
   "source": [
    "accuracy_score(export.loc[~export['true_sentiment'].isnull(),'true_sentiment'], export.loc[~export['true_sentiment'].isnull(),'sentiment'])"
   ]
  },
  {
   "cell_type": "markdown",
   "metadata": {},
   "source": [
    "## Always choosing 1 is best:"
   ]
  },
  {
   "cell_type": "code",
   "execution_count": 28,
   "metadata": {
    "collapsed": false
   },
   "outputs": [
    {
     "data": {
      "text/plain": [
       "0.495"
      ]
     },
     "execution_count": 28,
     "metadata": {},
     "output_type": "execute_result"
    }
   ],
   "source": [
    "accuracy_score(export.loc[~export['true_sentiment'].isnull(),'true_sentiment'], np.ones(export.loc[~export['true_sentiment'].isnull(),'true_sentiment'].shape[0]))"
   ]
  },
  {
   "cell_type": "code",
   "execution_count": 29,
   "metadata": {
    "collapsed": true
   },
   "outputs": [],
   "source": [
    "from sklearn.metrics import confusion_matrix\n",
    "from sklearn.metrics import classification_report"
   ]
  },
  {
   "cell_type": "code",
   "execution_count": 30,
   "metadata": {
    "collapsed": false
   },
   "outputs": [
    {
     "name": "stdout",
     "output_type": "stream",
     "text": [
      "             precision    recall  f1-score   support\n",
      "\n",
      "         -1       0.88      0.37      0.52       101\n",
      "          1       0.59      0.95      0.73        99\n",
      "\n",
      "avg / total       0.74      0.66      0.62       200\n",
      "\n"
     ]
    }
   ],
   "source": [
    "print(classification_report(export.loc[~export['true_sentiment'].isnull(),'true_sentiment'], export.loc[~export['true_sentiment'].isnull(),'sentiment'], labels = [-1, 1]))"
   ]
  },
  {
   "cell_type": "code",
   "execution_count": null,
   "metadata": {
    "collapsed": false
   },
   "outputs": [],
   "source": [
    "# Export results to CSV file\n",
    "#export.to_csv(\"results_dict.csv\", index=False)"
   ]
  }
 ],
 "metadata": {
  "kernelspec": {
   "display_name": "Python 2",
   "language": "python",
   "name": "python2"
  },
  "language_info": {
   "codemirror_mode": {
    "name": "ipython",
    "version": 2
   },
   "file_extension": ".py",
   "mimetype": "text/x-python",
   "name": "python",
   "nbconvert_exporter": "python",
   "pygments_lexer": "ipython2",
   "version": "2.7.11"
  }
 },
 "nbformat": 4,
 "nbformat_minor": 0
}
